{
 "cells": [
  {
   "cell_type": "code",
   "execution_count": 14,
   "metadata": {},
   "outputs": [
    {
     "name": "stdout",
     "output_type": "stream",
     "text": [
      "\n",
      "\n",
      "\n",
      "\n",
      "\n",
      "\n",
      "\n",
      "\n",
      "\n",
      "\n",
      "\n",
      "\n",
      "\n",
      "\n",
      "\n",
      "\n",
      "\n",
      "\n",
      "\n",
      "\n"
     ]
    }
   ],
   "source": [
    "from selenium import webdriver\n",
    "import time\n",
    "\n",
    "driver = webdriver.Chrome()\n",
    "\n",
    "driver.get(\"https://www.whoscored.com/Regions/108/Tournaments/5/Seasons/1957/Stages/3277/RefereeStatistics/Italy-Serie-A-2009-2010\")\n",
    "\n",
    "yup = driver.find_element_by_xpath('//*[@id=\"referee-stats-options\"]/li[2]/a')\n",
    "yup.click()\n",
    "\n",
    "\n",
    "reviews = driver.find_elements_by_xpath('//tbody[@id=\"referee-tournaments-table-body\"]/tr')\n",
    "# reviews = driver.find_elements_by_xpath(('//a[@class=\"tournament-link\"]'))[i].get_attribute('href')\n",
    "time.sleep(5)\n",
    "\n",
    "review_dict = {}\n",
    "\n",
    "for review in reviews:\n",
    "    R = review.find_element_by_xpath('./td[4]').text\n",
    "    print(R)\n",
    "    \n",
    "# driver.close()"
   ]
  },
  {
   "cell_type": "code",
   "execution_count": null,
   "metadata": {},
   "outputs": [],
   "source": []
  }
 ],
 "metadata": {
  "kernelspec": {
   "display_name": "Python 3",
   "language": "python",
   "name": "python3"
  },
  "language_info": {
   "codemirror_mode": {
    "name": "ipython",
    "version": 3
   },
   "file_extension": ".py",
   "mimetype": "text/x-python",
   "name": "python",
   "nbconvert_exporter": "python",
   "pygments_lexer": "ipython3",
   "version": "3.7.1"
  }
 },
 "nbformat": 4,
 "nbformat_minor": 2
}
